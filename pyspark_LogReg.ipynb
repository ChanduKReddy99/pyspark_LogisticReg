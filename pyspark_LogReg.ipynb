{
 "cells": [
  {
   "cell_type": "code",
   "execution_count": 1,
   "id": "c97cd4a3",
   "metadata": {},
   "outputs": [],
   "source": [
    "from pyspark.sql import SparkSession\n",
    "from pyspark.ml.feature import StringIndexer\n",
    "from pyspark.ml.feature import VectorAssembler\n",
    "from pyspark.ml.classification import LogisticRegression"
   ]
  },
  {
   "cell_type": "code",
   "execution_count": 2,
   "id": "69129972",
   "metadata": {},
   "outputs": [],
   "source": [
    "spark = SparkSession.builder.master('local').appName('Churn_LogRegres').getOrCreate()"
   ]
  },
  {
   "cell_type": "code",
   "execution_count": 3,
   "id": "89fe9de6",
   "metadata": {},
   "outputs": [
    {
     "name": "stdout",
     "output_type": "stream",
     "text": [
      "data\n",
      "LICENSE\n",
      "README.md\n",
      "requirements.txt\n",
      "Untitled.ipynb\n"
     ]
    }
   ],
   "source": [
    "!ls"
   ]
  },
  {
   "cell_type": "code",
   "execution_count": 4,
   "id": "fb308bbe",
   "metadata": {},
   "outputs": [],
   "source": [
    "df= spark.read.csv('data/Churn_Modelling.csv',inferSchema= True, header= True)"
   ]
  },
  {
   "cell_type": "code",
   "execution_count": 5,
   "id": "1971f17c",
   "metadata": {},
   "outputs": [
    {
     "name": "stdout",
     "output_type": "stream",
     "text": [
      "+---------+----------+--------+-----------+---------+------+---+------+---------+-------------+---------+--------------+---------------+------+\n",
      "|RowNumber|CustomerId| Surname|CreditScore|Geography|Gender|Age|Tenure|  Balance|NumOfProducts|HasCrCard|IsActiveMember|EstimatedSalary|Exited|\n",
      "+---------+----------+--------+-----------+---------+------+---+------+---------+-------------+---------+--------------+---------------+------+\n",
      "|        1|  15634602|Hargrave|        619|   France|Female| 42|     2|      0.0|            1|        1|             1|      101348.88|     1|\n",
      "|        2|  15647311|    Hill|        608|    Spain|Female| 41|     1| 83807.86|            1|        0|             1|      112542.58|     0|\n",
      "|        3|  15619304|    Onio|        502|   France|Female| 42|     8| 159660.8|            3|        1|             0|      113931.57|     1|\n",
      "|        4|  15701354|    Boni|        699|   France|Female| 39|     1|      0.0|            2|        0|             0|       93826.63|     0|\n",
      "|        5|  15737888|Mitchell|        850|    Spain|Female| 43|     2|125510.82|            1|        1|             1|        79084.1|     0|\n",
      "+---------+----------+--------+-----------+---------+------+---+------+---------+-------------+---------+--------------+---------------+------+\n",
      "only showing top 5 rows\n",
      "\n"
     ]
    }
   ],
   "source": [
    "df.show(5)"
   ]
  },
  {
   "cell_type": "code",
   "execution_count": 8,
   "id": "a3c45648",
   "metadata": {},
   "outputs": [],
   "source": [
    "# drop the unwanted columns \n",
    "list= ['RowNumber', 'CustomerId','Surname']\n",
    "df= df.drop(*list)"
   ]
  },
  {
   "cell_type": "code",
   "execution_count": 9,
   "id": "bd04e6b4",
   "metadata": {},
   "outputs": [
    {
     "name": "stdout",
     "output_type": "stream",
     "text": [
      "+-----------+---------+------+---+------+---------+-------------+---------+--------------+---------------+------+\n",
      "|CreditScore|Geography|Gender|Age|Tenure|  Balance|NumOfProducts|HasCrCard|IsActiveMember|EstimatedSalary|Exited|\n",
      "+-----------+---------+------+---+------+---------+-------------+---------+--------------+---------------+------+\n",
      "|        619|   France|Female| 42|     2|      0.0|            1|        1|             1|      101348.88|     1|\n",
      "|        608|    Spain|Female| 41|     1| 83807.86|            1|        0|             1|      112542.58|     0|\n",
      "|        502|   France|Female| 42|     8| 159660.8|            3|        1|             0|      113931.57|     1|\n",
      "|        699|   France|Female| 39|     1|      0.0|            2|        0|             0|       93826.63|     0|\n",
      "|        850|    Spain|Female| 43|     2|125510.82|            1|        1|             1|        79084.1|     0|\n",
      "+-----------+---------+------+---+------+---------+-------------+---------+--------------+---------------+------+\n",
      "only showing top 5 rows\n",
      "\n"
     ]
    }
   ],
   "source": [
    "df.show(5)"
   ]
  },
  {
   "cell_type": "code",
   "execution_count": 10,
   "id": "900921a1",
   "metadata": {},
   "outputs": [
    {
     "name": "stdout",
     "output_type": "stream",
     "text": [
      "root\n",
      " |-- CreditScore: integer (nullable = true)\n",
      " |-- Geography: string (nullable = true)\n",
      " |-- Gender: string (nullable = true)\n",
      " |-- Age: integer (nullable = true)\n",
      " |-- Tenure: integer (nullable = true)\n",
      " |-- Balance: double (nullable = true)\n",
      " |-- NumOfProducts: integer (nullable = true)\n",
      " |-- HasCrCard: integer (nullable = true)\n",
      " |-- IsActiveMember: integer (nullable = true)\n",
      " |-- EstimatedSalary: double (nullable = true)\n",
      " |-- Exited: integer (nullable = true)\n",
      "\n"
     ]
    }
   ],
   "source": [
    "df.printSchema()"
   ]
  },
  {
   "cell_type": "code",
   "execution_count": 13,
   "id": "f067c0ab",
   "metadata": {},
   "outputs": [],
   "source": [
    "#lets change the string type in to Integee type using StringIndexer\n",
    "indexer = StringIndexer(inputCol= 'Gender', outputCol= 'gender_cat')\n",
    "indexed= indexer.fit(df).transform(df)"
   ]
  },
  {
   "cell_type": "code",
   "execution_count": 14,
   "id": "d434ea23",
   "metadata": {},
   "outputs": [],
   "source": [
    "indexer = StringIndexer(inputCol= 'Geography', outputCol= 'geography_cat')\n",
    "indexed= indexer.fit(indexed).transform(indexed)"
   ]
  },
  {
   "cell_type": "code",
   "execution_count": 15,
   "id": "0530061f",
   "metadata": {},
   "outputs": [
    {
     "name": "stdout",
     "output_type": "stream",
     "text": [
      "+-----------+---------+------+---+------+---------+-------------+---------+--------------+---------------+------+----------+-------------+\n",
      "|CreditScore|Geography|Gender|Age|Tenure|  Balance|NumOfProducts|HasCrCard|IsActiveMember|EstimatedSalary|Exited|gender_cat|geography_cat|\n",
      "+-----------+---------+------+---+------+---------+-------------+---------+--------------+---------------+------+----------+-------------+\n",
      "|        619|   France|Female| 42|     2|      0.0|            1|        1|             1|      101348.88|     1|       1.0|          0.0|\n",
      "|        608|    Spain|Female| 41|     1| 83807.86|            1|        0|             1|      112542.58|     0|       1.0|          2.0|\n",
      "|        502|   France|Female| 42|     8| 159660.8|            3|        1|             0|      113931.57|     1|       1.0|          0.0|\n",
      "|        699|   France|Female| 39|     1|      0.0|            2|        0|             0|       93826.63|     0|       1.0|          0.0|\n",
      "|        850|    Spain|Female| 43|     2|125510.82|            1|        1|             1|        79084.1|     0|       1.0|          2.0|\n",
      "+-----------+---------+------+---+------+---------+-------------+---------+--------------+---------------+------+----------+-------------+\n",
      "only showing top 5 rows\n",
      "\n"
     ]
    }
   ],
   "source": [
    "indexed.show(5)"
   ]
  },
  {
   "cell_type": "code",
   "execution_count": 16,
   "id": "f08c3afb",
   "metadata": {},
   "outputs": [],
   "source": [
    "assembler = VectorAssembler(inputCols=['CreditScore','Age','Tenure','Balance','NumOfProducts',\n",
    "                                       'HasCrCard','IsActiveMember','EstimatedSalary','gender_cat','geography_cat'],\n",
    "                           outputCol= 'features')"
   ]
  },
  {
   "cell_type": "code",
   "execution_count": 17,
   "id": "8fc39393",
   "metadata": {},
   "outputs": [],
   "source": [
    "output = assembler.transform(indexed)"
   ]
  },
  {
   "cell_type": "code",
   "execution_count": 18,
   "id": "9ba14ef1",
   "metadata": {},
   "outputs": [],
   "source": [
    "churn_df_final= output.select('features', 'Exited')"
   ]
  },
  {
   "cell_type": "code",
   "execution_count": 19,
   "id": "e2b01727",
   "metadata": {},
   "outputs": [
    {
     "name": "stdout",
     "output_type": "stream",
     "text": [
      "+-------------------------------------------------------+------+\n",
      "|features                                               |Exited|\n",
      "+-------------------------------------------------------+------+\n",
      "|[619.0,42.0,2.0,0.0,1.0,1.0,1.0,101348.88,1.0,0.0]     |1     |\n",
      "|[608.0,41.0,1.0,83807.86,1.0,0.0,1.0,112542.58,1.0,2.0]|0     |\n",
      "|[502.0,42.0,8.0,159660.8,3.0,1.0,0.0,113931.57,1.0,0.0]|1     |\n",
      "|[699.0,39.0,1.0,0.0,2.0,0.0,0.0,93826.63,1.0,0.0]      |0     |\n",
      "|[850.0,43.0,2.0,125510.82,1.0,1.0,1.0,79084.1,1.0,2.0] |0     |\n",
      "+-------------------------------------------------------+------+\n",
      "only showing top 5 rows\n",
      "\n"
     ]
    }
   ],
   "source": [
    "churn_df_final.show(5, truncate= False)"
   ]
  },
  {
   "cell_type": "code",
   "execution_count": 21,
   "id": "300cbb51",
   "metadata": {},
   "outputs": [],
   "source": [
    "#Split the data in to train test splits \n",
    "train,test= churn_df_final.randomSplit([0.7,0.3], seed= 9)"
   ]
  },
  {
   "cell_type": "code",
   "execution_count": 23,
   "id": "6c9f9015",
   "metadata": {},
   "outputs": [
    {
     "name": "stdout",
     "output_type": "stream",
     "text": [
      "7023\n",
      "2977\n"
     ]
    },
    {
     "data": {
      "text/plain": [
       "(None, None)"
      ]
     },
     "execution_count": 23,
     "metadata": {},
     "output_type": "execute_result"
    }
   ],
   "source": [
    "print(train.count()), print(test.count())"
   ]
  },
  {
   "cell_type": "code",
   "execution_count": 24,
   "id": "73f22001",
   "metadata": {},
   "outputs": [],
   "source": [
    "#lets do the model building\n",
    "model = LogisticRegression(labelCol= 'Exited')"
   ]
  },
  {
   "cell_type": "code",
   "execution_count": 25,
   "id": "22048b68",
   "metadata": {},
   "outputs": [],
   "source": [
    "#train the model\n",
    "lr_model = model.fit(train)"
   ]
  },
  {
   "cell_type": "code",
   "execution_count": 26,
   "id": "245537de",
   "metadata": {},
   "outputs": [
    {
     "data": {
      "text/plain": [
       "LogisticRegressionModel: uid=LogisticRegression_83b75109c650, numClasses=2, numFeatures=10"
      ]
     },
     "execution_count": 26,
     "metadata": {},
     "output_type": "execute_result"
    }
   ],
   "source": [
    "lr_model #it showing that num of classes=2, num of features=10"
   ]
  },
  {
   "cell_type": "code",
   "execution_count": 27,
   "id": "740429f0",
   "metadata": {},
   "outputs": [],
   "source": [
    "#let evaluate the train predictions\n",
    "train_eval = lr_model.evaluate(train).predictions"
   ]
  },
  {
   "cell_type": "code",
   "execution_count": 28,
   "id": "c473d639",
   "metadata": {},
   "outputs": [
    {
     "name": "stdout",
     "output_type": "stream",
     "text": [
      "+--------------------+------+--------------------+--------------------+----------+\n",
      "|            features|Exited|       rawPrediction|         probability|prediction|\n",
      "+--------------------+------+--------------------+--------------------+----------+\n",
      "|(10,[0,1,2,4,7],[...|     0|[2.38702256441885...|[0.91583234103214...|       0.0|\n",
      "|(10,[0,1,2,4,7],[...|     0|[2.10568341180284...|[0.89145435033539...|       0.0|\n",
      "|(10,[0,1,2,4,7],[...|     0|[2.15658894637445...|[0.89628288577846...|       0.0|\n",
      "|(10,[0,1,2,4,7],[...|     0|[1.24609441996402...|[0.77662305444172...|       0.0|\n",
      "|(10,[0,1,2,4,7],[...|     0|[1.99858761274397...|[0.88064870660154...|       0.0|\n",
      "+--------------------+------+--------------------+--------------------+----------+\n",
      "only showing top 5 rows\n",
      "\n"
     ]
    }
   ],
   "source": [
    "train_eval.show(5)"
   ]
  },
  {
   "cell_type": "code",
   "execution_count": 30,
   "id": "5c2fb044",
   "metadata": {},
   "outputs": [
    {
     "name": "stdout",
     "output_type": "stream",
     "text": [
      "Coefficients: [-0.0008282599182243841,0.07226529456955158,-0.018583090904753984,5.015519181836452e-06,-0.06582359615850605,-0.04937176785283148,-1.0787252259940088,8.07632868640747e-07,0.6005678843651715,0.07726249228574214]\n",
      "Intercept: -3.927014289018742\n"
     ]
    }
   ],
   "source": [
    "#lets print the Coefficients and Intercept \n",
    "print(\"Coefficients: \" + str(lr_model.coefficients))\n",
    "print(\"Intercept: \" + str(lr_model.intercept))"
   ]
  },
  {
   "cell_type": "code",
   "execution_count": 78,
   "id": "82fdb91f",
   "metadata": {},
   "outputs": [],
   "source": [
    "test_eval= lr_model.evaluate(test).predictions"
   ]
  },
  {
   "cell_type": "code",
   "execution_count": 79,
   "id": "fcc57825",
   "metadata": {},
   "outputs": [
    {
     "name": "stdout",
     "output_type": "stream",
     "text": [
      "+--------------------+------+--------------------+--------------------+----------+\n",
      "|            features|Exited|       rawPrediction|         probability|prediction|\n",
      "+--------------------+------+--------------------+--------------------+----------+\n",
      "|(10,[0,1,2,4,7],[...|     0|[1.46087648530929...|[0.81166669432571...|       0.0|\n",
      "|(10,[0,1,2,4,7],[...|     1|[2.22362963694228...|[0.90235148232728...|       0.0|\n",
      "|(10,[0,1,2,4,7],[...|     0|[2.56070064774316...|[0.92828911275894...|       0.0|\n",
      "|(10,[0,1,2,4,7],[...|     0|[1.49049439364358...|[0.81615246676426...|       0.0|\n",
      "|(10,[0,1,2,4,7],[...|     0|[1.86406474074996...|[0.86577002357675...|       0.0|\n",
      "+--------------------+------+--------------------+--------------------+----------+\n",
      "only showing top 5 rows\n",
      "\n"
     ]
    }
   ],
   "source": [
    "test_eval.show(5)"
   ]
  },
  {
   "cell_type": "code",
   "execution_count": 82,
   "id": "3f1d2949",
   "metadata": {},
   "outputs": [
    {
     "data": {
      "text/plain": [
       "103"
      ]
     },
     "execution_count": 82,
     "metadata": {},
     "output_type": "execute_result"
    }
   ],
   "source": [
    "#lets calculate TP,TN and accuracy\n",
    "TP= test_eval[(test_eval.Exited==1) & (test_eval.prediction==1)].count() \n",
    "TP"
   ]
  },
  {
   "cell_type": "code",
   "execution_count": 83,
   "id": "30eba732",
   "metadata": {},
   "outputs": [
    {
     "data": {
      "text/plain": [
       "2284"
      ]
     },
     "execution_count": 83,
     "metadata": {},
     "output_type": "execute_result"
    }
   ],
   "source": [
    "TN= test_eval[(test_eval.Exited==0) & (test_eval.prediction==0)].count()\n",
    "TN"
   ]
  },
  {
   "cell_type": "code",
   "execution_count": 88,
   "id": "80904470",
   "metadata": {},
   "outputs": [],
   "source": [
    "Accuracy= float((TP+TN)/test_eval.count())"
   ]
  },
  {
   "cell_type": "code",
   "execution_count": 90,
   "id": "f67c6399",
   "metadata": {},
   "outputs": [
    {
     "data": {
      "text/plain": [
       "0.8018139066174"
      ]
     },
     "execution_count": 90,
     "metadata": {},
     "output_type": "execute_result"
    }
   ],
   "source": [
    "Accuracy"
   ]
  },
  {
   "cell_type": "code",
   "execution_count": null,
   "id": "434f9721",
   "metadata": {},
   "outputs": [],
   "source": []
  }
 ],
 "metadata": {
  "kernelspec": {
   "display_name": "Python 3 (ipykernel)",
   "language": "python",
   "name": "python3"
  },
  "language_info": {
   "codemirror_mode": {
    "name": "ipython",
    "version": 3
   },
   "file_extension": ".py",
   "mimetype": "text/x-python",
   "name": "python",
   "nbconvert_exporter": "python",
   "pygments_lexer": "ipython3",
   "version": "3.7.13"
  }
 },
 "nbformat": 4,
 "nbformat_minor": 5
}
